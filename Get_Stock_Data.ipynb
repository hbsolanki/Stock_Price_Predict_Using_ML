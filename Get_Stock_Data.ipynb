{
 "cells": [
  {
   "cell_type": "code",
   "execution_count": 16,
   "id": "4a786c57-9269-423f-bf44-ca9f26defcb5",
   "metadata": {},
   "outputs": [],
   "source": [
    "# pip install yfinance\n"
   ]
  },
  {
   "cell_type": "code",
   "execution_count": 22,
   "id": "26173359-1ca0-419c-b74c-d5ad591b5fc8",
   "metadata": {},
   "outputs": [
    {
     "name": "stderr",
     "output_type": "stream",
     "text": [
      "/var/folders/wl/gl2wvr35713cp_p33wqpcd3m0000gn/T/ipykernel_2071/3597417940.py:4: FutureWarning: YF.download() has changed argument auto_adjust default to True\n",
      "  df = yf.download(\"RELIANCE.NS\", start=\"2023-01-01\", end=\"2025-08-08\")\n",
      "[*********************100%***********************]  1 of 1 completed\n"
     ]
    }
   ],
   "source": [
    "import yfinance as yf\n",
    "\n",
    "# Get historical OHLC data for RELIANCE\n",
    "df = yf.download(\"RELIANCE.NS\", start=\"2023-01-01\", end=\"2025-08-08\")\n",
    "df.to_csv('RELIANCE_StockData.csv')"
   ]
  },
  {
   "cell_type": "code",
   "execution_count": null,
   "id": "a02bc247-5535-48d3-b4b1-abaa8fb7a1c0",
   "metadata": {},
   "outputs": [],
   "source": []
  },
  {
   "cell_type": "code",
   "execution_count": null,
   "id": "5965010b-53a6-4f32-abe1-f5abdca5d0d3",
   "metadata": {},
   "outputs": [],
   "source": []
  },
  {
   "cell_type": "code",
   "execution_count": null,
   "id": "0dac8f20-23f5-402f-9ed5-203ab187bfe5",
   "metadata": {},
   "outputs": [],
   "source": []
  },
  {
   "cell_type": "code",
   "execution_count": null,
   "id": "bc1ebf96-ab4e-4ea7-bfb3-a98fc3c828da",
   "metadata": {},
   "outputs": [],
   "source": []
  },
  {
   "cell_type": "code",
   "execution_count": null,
   "id": "4624bcba-d7fe-40c6-a403-b0e8dd6bbe10",
   "metadata": {},
   "outputs": [],
   "source": []
  },
  {
   "cell_type": "code",
   "execution_count": null,
   "id": "1481af41-00c4-4e46-812b-9b00bf1b9028",
   "metadata": {},
   "outputs": [],
   "source": []
  },
  {
   "cell_type": "code",
   "execution_count": null,
   "id": "09fe5450-09c1-436e-8b58-6931c7b4f48d",
   "metadata": {},
   "outputs": [],
   "source": []
  }
 ],
 "metadata": {
  "kernelspec": {
   "display_name": "Python 3 (ipykernel)",
   "language": "python",
   "name": "python3"
  },
  "language_info": {
   "codemirror_mode": {
    "name": "ipython",
    "version": 3
   },
   "file_extension": ".py",
   "mimetype": "text/x-python",
   "name": "python",
   "nbconvert_exporter": "python",
   "pygments_lexer": "ipython3",
   "version": "3.9.6"
  }
 },
 "nbformat": 4,
 "nbformat_minor": 5
}

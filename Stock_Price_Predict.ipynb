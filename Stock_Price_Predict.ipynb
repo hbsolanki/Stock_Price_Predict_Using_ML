{
 "cells": [
  {
   "cell_type": "code",
   "execution_count": 3,
   "id": "70faab22-92b3-4a7e-87e9-f387f296aaa4",
   "metadata": {},
   "outputs": [],
   "source": [
    "import warnings\n",
    "warnings.filterwarnings(\"ignore\")  # Ignore all warnings\n",
    "\n",
    "#import Lib \n",
    "import pandas as pd\n",
    "import numpy as np\n",
    "from sklearn.preprocessing import MinMaxScaler\n",
    "from tensorflow.keras.models import Sequential\n",
    "from tensorflow.keras.layers import LSTM, Dense, Dropout\n",
    "import matplotlib.pyplot as plt\n",
    "from sklearn.model_selection import train_test_split\n"
   ]
  },
  {
   "cell_type": "code",
   "execution_count": 4,
   "id": "dd8b9d55-c9c7-4dfe-9fcc-ea8d30444d07",
   "metadata": {},
   "outputs": [],
   "source": [
    "    # 1. Load CSV and clean\n",
    "df = pd.read_csv(\"RELIANCE_StockData.csv\")\n",
    "df.rename(columns={'Price': 'Date'}, inplace=True)\n",
    "# df = df.iloc[2:].reset_index(drop=True)\n",
    "df['Date'] = pd.to_datetime(df['Date'])\n",
    "df = df.dropna()"
   ]
  },
  {
   "cell_type": "code",
   "execution_count": 5,
   "id": "35dffdd1-52e4-4d58-ae96-612d6251908f",
   "metadata": {},
   "outputs": [],
   "source": [
    "# 2. Select numeric columns\n",
    "feature_names = ['Close', 'High', 'Low', 'Open', 'Volume']\n",
    "data = df[feature_names].values\n"
   ]
  },
  {
   "cell_type": "code",
   "execution_count": 6,
   "id": "49fc7cec-4fd0-48c1-9a7a-d03533dccdd2",
   "metadata": {},
   "outputs": [],
   "source": [
    "# 3. Scale data\n",
    "scaler = MinMaxScaler()\n",
    "scaled_data = scaler.fit_transform(data)"
   ]
  },
  {
   "cell_type": "code",
   "execution_count": 7,
   "id": "5e7c5546-bb06-443a-aaa8-f00e7ef0cadf",
   "metadata": {},
   "outputs": [],
   "source": [
    "# 4. Create sequences for LSTM\n",
    "def create_sequences(dataset, sequence_length=60):\n",
    "    X, y = [], []\n",
    "    for i in range(len(dataset) - sequence_length):\n",
    "        X.append(dataset[i:i+sequence_length])\n",
    "        y.append(dataset[i+sequence_length])\n",
    "    return np.array(X), np.array(y)\n",
    "\n",
    "sequence_length = 60\n",
    "X, y = create_sequences(scaled_data, sequence_length)\n"
   ]
  },
  {
   "cell_type": "code",
   "execution_count": 8,
   "id": "a166c32a-021e-48ad-a5d3-23e6c0adf20c",
   "metadata": {},
   "outputs": [],
   "source": [
    "# 5. Train-test split\n",
    "X_train, X_test, y_train, y_test = train_test_split(X, y, test_size=0.2, shuffle=False)"
   ]
  },
  {
   "cell_type": "code",
   "execution_count": 9,
   "id": "2f537d6b-48fc-4d83-8799-6d4f07a7a18c",
   "metadata": {},
   "outputs": [],
   "source": [
    "# 6. Simple LSTM model\n",
    "model = Sequential([\n",
    "    LSTM(50, dropout=0.2, input_shape=(X_train.shape[1], X_train.shape[2])),\n",
    "    Dense(len(feature_names))\n",
    "])\n",
    "\n",
    "model.compile(optimizer='adam', loss='mse')\n"
   ]
  },
  {
   "cell_type": "code",
   "execution_count": 10,
   "id": "5f3211a3-2478-4601-a891-a4feaf0f1f08",
   "metadata": {},
   "outputs": [
    {
     "data": {
      "text/plain": [
       "<keras.src.callbacks.history.History at 0x157a93e80>"
      ]
     },
     "execution_count": 10,
     "metadata": {},
     "output_type": "execute_result"
    }
   ],
   "source": [
    "# 7. Train model\n",
    "model.fit(X_train, y_train, epochs=50, batch_size=32, verbose=0)\n"
   ]
  },
  {
   "cell_type": "code",
   "execution_count": 11,
   "id": "d0457fec-3a65-42a0-83f9-6598bac6c07f",
   "metadata": {},
   "outputs": [],
   "source": [
    "# 8. Predictions\n",
    "predictions = model.predict(X_test, verbose=0)\n",
    "predictions = scaler.inverse_transform(predictions)\n",
    "y_test_original = scaler.inverse_transform(y_test)\n"
   ]
  },
  {
   "cell_type": "code",
   "execution_count": null,
   "id": "43663954-857b-4016-bd79-1408a3c4b1a6",
   "metadata": {},
   "outputs": [],
   "source": [
    "# 9. visualization\n",
    "fig, axes = plt.subplots(3, 2, figsize=(14, 10))\n",
    "axes = axes.flatten()\n",
    "for i, feature in enumerate(feature_names):\n",
    "    axes[i].plot(y_test_original[:, i], label=f'Actual {feature}')\n",
    "    axes[i].plot(predictions[:, i], label=f'Predicted {feature}', linestyle='--')\n",
    "    axes[i].set_title(f'{feature} - Actual vs Predicted')\n",
    "    axes[i].grid(True)\n",
    "    axes[i].legend()\n",
    "\n",
    "if len(feature_names) < len(axes):\n",
    "    axes[-1].axis('off')\n",
    "\n",
    "plt.tight_layout()\n",
    "plt.show()"
   ]
  },
  {
   "cell_type": "code",
   "execution_count": null,
   "id": "04d39729-1d8c-4f4e-91d0-a10759c743bb",
   "metadata": {},
   "outputs": [],
   "source": [
    "# 10. predict next day's values\n",
    "def predict_next_day(last_n_days):\n",
    "    \"\"\"\n",
    "    last_n_days: np.array of shape (sequence_length, num_features)\n",
    "    \"\"\"\n",
    "    if last_n_days.shape != (sequence_length, len(feature_names)):\n",
    "        raise ValueError(f\"Input must have shape ({sequence_length}, {len(feature_names)})\")\n",
    "    \n",
    "    scaled_input = scaler.transform(last_n_days)\n",
    "    scaled_input = np.expand_dims(scaled_input, axis=0)  # reshape for LSTM\n",
    "    scaled_prediction = model.predict(scaled_input, verbose=0)\n",
    "    return scaler.inverse_transform(scaled_prediction)[0]\n",
    "\n",
    "\n",
    "last_sequence = data[-sequence_length:] \n",
    "next_day_pred = predict_next_day(last_sequence)\n",
    "print(\"\\nNext Day Prediction:\")\n",
    "for f, val in zip(feature_names, next_day_pred):\n",
    "    print(f\"{f}: {val:.2f}\")\n"
   ]
  },
  {
   "cell_type": "code",
   "execution_count": null,
   "id": "a6255e91-257c-4648-a9a4-7d307d8012f4",
   "metadata": {},
   "outputs": [
    {
     "name": "stdout",
     "output_type": "stream",
     "text": [
      "\n",
      "Predicted values for 2025-08-12:\n",
      "Close: 1252.18\n",
      "High: 1257.26\n",
      "Low: 1237.73\n",
      "Open: 1235.53\n",
      "Volume: 13856888.00\n"
     ]
    }
   ],
   "source": [
    "from datetime import datetime, timedelta\n",
    "\n",
    "# Predict N future days ahead\n",
    "def predict_until_date(target_date_str):\n",
    "    target_date = datetime.strptime(target_date_str, \"%Y-%m-%d\").date()\n",
    "    last_known_date = df['Date'].iloc[-1].date()\n",
    "\n",
    "    if target_date <= last_known_date:\n",
    "        raise ValueError(\"Target date must be after the dataset's last date.\")\n",
    "\n",
    "    current_sequence = data[-sequence_length:].copy()\n",
    "    current_date = last_known_date\n",
    "\n",
    "    prediction_for_target = None\n",
    "\n",
    "    while current_date < target_date:\n",
    "        # Predict next day\n",
    "        pred = predict_next_day(current_sequence)\n",
    "\n",
    "        # Append prediction to sequence and drop first row\n",
    "        current_sequence = np.vstack([current_sequence[1:], pred])\n",
    "        \n",
    "        current_date += timedelta(days=1)\n",
    "        \n",
    "        if current_date == target_date:\n",
    "            prediction_for_target = pred\n",
    "\n",
    "    return current_date, prediction_for_target\n",
    "\n",
    "\n",
    "# Example: User input date\n",
    "user_input_date = input(\"Enter target date (YYYY-MM-DD): \").strip()\n",
    "pred_date, pred_values = predict_until_date(user_input_date)\n",
    "\n",
    "print(f\"\\nPredicted values for {pred_date}:\")\n",
    "for f, val in zip(feature_names, pred_values):\n",
    "    print(f\"{f}: {val:.2f}\")\n"
   ]
  },
  {
   "cell_type": "code",
   "execution_count": null,
   "id": "13089efd-ea0d-42c0-a302-9cb07da43ecc",
   "metadata": {},
   "outputs": [],
   "source": []
  }
 ],
 "metadata": {
  "kernelspec": {
   "display_name": "Python 3 (ipykernel)",
   "language": "python",
   "name": "python3"
  },
  "language_info": {
   "codemirror_mode": {
    "name": "ipython",
    "version": 3
   },
   "file_extension": ".py",
   "mimetype": "text/x-python",
   "name": "python",
   "nbconvert_exporter": "python",
   "pygments_lexer": "ipython3",
   "version": "3.9.6"
  }
 },
 "nbformat": 4,
 "nbformat_minor": 5
}
